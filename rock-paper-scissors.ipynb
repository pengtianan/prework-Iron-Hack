{
 "cells": [
  {
   "cell_type": "markdown",
   "metadata": {},
   "source": [
    "<img src=\"https://bit.ly/2VnXWr2\" width=\"100\" align=\"left\">"
   ]
  },
  {
   "cell_type": "markdown",
   "metadata": {},
   "source": [
    "# Rock, Paper & Scissors\n",
    "\n",
    "Let's play the famous game against our computer. You can check the rules [here](https://en.wikipedia.org/wiki/Rock%E2%80%93paper%E2%80%93scissors). \n",
    "\n",
    "## Task\n",
    "Create a program that imitates the playability of the well known game of rock, paper, scissors. Follow the guidelines provided.\n",
    "\n",
    "## Tools\n",
    "1. Loop: **for/while**\n",
    "2. Functions: **input(), print()...**\n",
    "3. Conditional statements: **if, elif, else**\n",
    "4. Definition of functions. Modular programming\n",
    "5. Import modules\n",
    "\n",
    "**To solve this challenge, the use of functions is recommended.**\n",
    "\n",
    "#### 1. Import the choice function of the random module."
   ]
  },
  {
   "cell_type": "code",
   "execution_count": null,
   "metadata": {},
   "outputs": [],
   "source": [
    "import random\n",
    "from random import choice"
   ]
  },
  {
   "cell_type": "markdown",
   "metadata": {},
   "source": [
    "#### 2. Create a list that includes the 3 possible gesture options of the game: 'rock', 'paper' or 'scissors'. Store the list in a variable called `gestures`."
   ]
  },
  {
   "cell_type": "code",
   "execution_count": null,
   "metadata": {},
   "outputs": [],
   "source": [
    "gestures = [\"rock\",\"paper\",\"scissors\"]"
   ]
  },
  {
   "cell_type": "markdown",
   "metadata": {},
   "source": [
    "#### 3. Create a variable called `n_rounds` to store the maximum number of rounds to play in a game. \n",
    "Remember that the number of rounds must be odd: 1, 3, 5, ..."
   ]
  },
  {
   "cell_type": "code",
   "execution_count": null,
   "metadata": {},
   "outputs": [],
   "source": [
    "n_rounds = 9"
   ]
  },
  {
   "cell_type": "markdown",
   "metadata": {},
   "source": [
    "#### 4. Create a variable called `rounds_to_win` to store the number of rounds that a player must win to win the game.\n",
    "**Hint**: the value stored in `rounds_to_win` depends on the value of `n_rounds`. "
   ]
  },
  {
   "cell_type": "code",
   "execution_count": null,
   "metadata": {},
   "outputs": [],
   "source": [
    "rounds_to_win = (n_rounds+1)/2"
   ]
  },
  {
   "cell_type": "markdown",
   "metadata": {},
   "source": [
    "#### 5. Create two variables to store the number of rounds that the computer and the player have won. Call these variables `cpu_score` and `player_score`."
   ]
  },
  {
   "cell_type": "code",
   "execution_count": null,
   "metadata": {},
   "outputs": [],
   "source": [
    "cpu_score=0\n",
    "player_score=0"
   ]
  },
  {
   "cell_type": "markdown",
   "metadata": {},
   "source": [
    "#### 6. Define a function that randomly returns one of the 3 gesture options.\n",
    "You will use this function to simulate the gesture choice of the computer. "
   ]
  },
  {
   "cell_type": "code",
   "execution_count": null,
   "metadata": {},
   "outputs": [],
   "source": [
    "def compchoice():\n",
    "  cpuchoice=random.choice(gestures)\n",
    "  return(cpuchoice)"
   ]
  },
  {
   "cell_type": "markdown",
   "metadata": {},
   "source": [
    "#### 7. Define a function that asks the player which is the gesture he or she wants to show: 'rock', 'paper' or 'scissors'.\n",
    "The player should only be allowed to choose one of the 3 gesture options. If the player's choice is not rock, paper or scissors, keep asking until it is."
   ]
  },
  {
   "cell_type": "code",
   "execution_count": null,
   "metadata": {},
   "outputs": [],
   "source": [
    "def playerschoice():\n",
    "  while True:\n",
    "    playerchooses = input(\"Please type rock, paper or scissors:\")\n",
    "    if playerchooses not in gestures:\n",
    "      print(\"Please choose between the 3 options and write in small letters\")\n",
    "    else: \n",
    "      return(playerchooses)"
   ]
  },
  {
   "cell_type": "markdown",
   "metadata": {},
   "source": [
    "#### 8. Define a function that checks who won a round. \n",
    "The function should return 0 if there is a tie, 1 if the computer wins and 2 if the player wins."
   ]
  },
  {
   "cell_type": "code",
   "execution_count": null,
   "metadata": {},
   "outputs": [],
   "source": [
    "def winround():\n",
    "    playerchooses = playerschoice()\n",
    "    cpuchoice = compchoice()\n",
    "    print(\"The player chooses \" + str(playerchooses))\n",
    "    print(\"The computer chooses \" + str(cpuchoice))\n",
    "\n",
    "    if playerchooses == \"rock\":\n",
    "      if cpuchoice == \"rock\":\n",
    "        return(0)\n",
    "      elif cpuchoice == \"paper\":\n",
    "        return(1)\n",
    "      elif cpuchoice == \"scissors\":\n",
    "        return(2)\n",
    "\n",
    "    elif playerchooses == \"paper\":\n",
    "      if cpuchoice == \"rock\":\n",
    "        return(2)\n",
    "      elif cpuchoice == \"paper\":\n",
    "        return(0)\n",
    "      elif cpuchoice == \"scissors\":\n",
    "        return(1)\n",
    "    \n",
    "    elif playerchooses == \"scissors\":\n",
    "      if cpuchoice == \"rock\":\n",
    "        return(1)\n",
    "      elif cpuchoice == \"paper\":\n",
    "        return(2)\n",
    "      elif cpuchoice == \"scissors\":\n",
    "        return(0)"
   ]
  },
  {
   "cell_type": "markdown",
   "metadata": {},
   "source": [
    "#### 9. Define a function that prints the choice of the computer, the choice of the player and a message that announces who won the current round. \n",
    "You should also use this function to update the variables that count the number of rounds that the computer and the player have won. The score of the winner increases by one point. If there is a tie, the score does not increase."
   ]
  },
  {
   "cell_type": "code",
   "execution_count": null,
   "metadata": {},
   "outputs": [],
   "source": [
    "def drum_roll():\n",
    "  result = winround()\n",
    "  if result==1:\n",
    "    print(\"The computer wins\")\n",
    "    return(\"The computer wins\")\n",
    "  elif result == 2:\n",
    "    print(\"The human wins\")\n",
    "    return(\"The human wins\")\n",
    "  elif result ==0:\n",
    "    print(\"It's a tie\")\n",
    "    return(\"It's a tie\")"
   ]
  },
  {
   "cell_type": "markdown",
   "metadata": {},
   "source": [
    "#### 10. Now it's time to code the execution of the game using the functions and variables you defined above. \n",
    "\n",
    "First, create a loop structure that repeats while no player reaches the minimum score necessary to win and the number of rounds is less than the maximum number of rounds to play in a game.  \n",
    "\n",
    "Inside the loop, use the functions and variables above to create the execution of a round: ask for the player's choice, generate the random choice of the computer, show the round results, update the scores, etc. "
   ]
  },
  {
   "cell_type": "code",
   "execution_count": null,
   "metadata": {},
   "outputs": [],
   "source": [
    "for r in range(n_rounds):\n",
    "  result_round = drum_roll()\n",
    "  if str(result_round) == \"The computer wins\":\n",
    "    cpu_score += 1\n",
    "  elif str(result_round) == \"The human wins\":\n",
    "    player_score += 1\n",
    "  elif str(result_round) == \"It's a tie\":\n",
    "    cpu_score += 1\n",
    "    player_score += 1\n",
    "  print(\"Computer: \"+ str(cpu_score)+\" Human : \"+str(player_score))\n",
    "\n",
    "  if cpu_score == rounds_to_win:\n",
    "    print(\"The computer is the overall winner : \"+str(cpu_score)+\" rounds to \"+str(player_score))\n",
    "    break\n",
    "  elif player_score == rounds_to_win:\n",
    "    print(\"The human is the overall winner : \"+str(player_score)+\" rounds to \"+str(cpu_score))\n",
    "    break\n",
    "  elif player_score == rounds_to_win and cpu_score==rounds_to_win:\n",
    "    print(\"The game ends on a tie : \"+str(player_score)+\" to \"+str(cpu_score))\n",
    "    break"
   ]
  },
  {
   "cell_type": "markdown",
   "metadata": {},
   "source": [
    "#### 11. Print the winner of the game based on who won more rounds.\n",
    "Remember that the game might be tied. "
   ]
  },
  {
   "cell_type": "code",
   "execution_count": null,
   "metadata": {},
   "outputs": [],
   "source": []
  },
  {
   "cell_type": "markdown",
   "metadata": {},
   "source": [
    "# Bonus: Rock, Paper, Scissors, Lizard & Spock\n",
    "![](images/rpsls.jpg)\n",
    "\n",
    "In this challenge, you need to improve the previous game by adding two new options. To know more about the rules of the improved version of rock, paper, scissors, check this [link](http://www.samkass.com/theories/RPSSL.html). \n",
    "\n",
    "In addition, you will also need to improve how the game interacts with the player: the number of rounds to play, which must be an odd number, will be requested to the user until a valid number is entered. Define a new function to make that request.\n",
    "\n",
    "**Hint**: Try to reuse the code that you already coded in the previous challenge. If your code is efficient, this bonus will only consist of simple modifications to the original game."
   ]
  },
  {
   "cell_type": "code",
   "execution_count": null,
   "metadata": {},
   "outputs": [],
   "source": [
    "import random\n",
    "from random import choice\n",
    "\n",
    "\n",
    "def how_many_rounds():\n",
    "  while True:\n",
    "    that_many = int(input(\"How many rounds would you like to play?\"))\n",
    "    if that_many % 2 == 0:\n",
    "      print(\"You have to choose an odd number\")\n",
    "      continue\n",
    "    else:\n",
    "      return(that_many)\n",
    "      break\n",
    "\n",
    "\n",
    "cpu_score=0\n",
    "player_score=0\n",
    "\n",
    "n_rounds = how_many_rounds()\n",
    "\n",
    "rounds_to_win = (n_rounds+1)/2\n",
    "\n",
    "gestures_2 = [\"rock\",\"paper\",\"scissors\",\"spock\",\"lizard\"]\n",
    "\n",
    "def compchoice_2():\n",
    "  cpuchoice=random.choice(gestures_2)\n",
    "  return(cpuchoice)\n",
    "  \n",
    "\n",
    "def playerschoice_2():\n",
    "  while True:\n",
    "    playerchooses = input(\"Please type rock, paper, scissors, spock or lizard:\")\n",
    "    if playerchooses not in gestures_2:\n",
    "      print(\"Please choose between the 5 options and write in small letters\")\n",
    "    else: \n",
    "      return(playerchooses)\n",
    "      \n",
    "  \n",
    "def winround_2():\n",
    "    playerchooses = playerschoice_2()\n",
    "    cpuchoice = compchoice_2()\n",
    "    print(\"The player chooses \" + str(playerchooses))\n",
    "    print(\"The computer chooses \" + str(cpuchoice))\n",
    "\n",
    "    if playerchooses == \"rock\":\n",
    "      if cpuchoice == \"rock\":\n",
    "        return(0)\n",
    "      elif cpuchoice == \"paper\":\n",
    "        return(1)\n",
    "      elif cpuchoice == \"scissors\":\n",
    "        return(2)\n",
    "      elif cpuchoice == \"spock\":\n",
    "        return(1)\n",
    "      elif cpuchoice == \"lizard\":\n",
    "        return(2)\n",
    "\n",
    "    elif playerchooses == \"paper\":\n",
    "      if cpuchoice == \"rock\":\n",
    "        return(2)\n",
    "      elif cpuchoice == \"paper\":\n",
    "        return(0)\n",
    "      elif cpuchoice == \"scissors\":\n",
    "        return(1)\n",
    "      elif cpuchoice == \"spock\":\n",
    "        return(2)\n",
    "      elif cpuchoice == \"lizard\":\n",
    "        return(1)\n",
    "    \n",
    "    elif playerchooses == \"scissors\":\n",
    "      if cpuchoice == \"rock\":\n",
    "        return(1)\n",
    "      elif cpuchoice == \"paper\":\n",
    "        return(2)\n",
    "      elif cpuchoice == \"scissors\":\n",
    "        return(0)\n",
    "      elif cpuchoice == \"spock\":\n",
    "        return(1)\n",
    "      elif cpuchoice == \"lizard\":\n",
    "        return(2)\n",
    "\n",
    "    elif playerchooses == \"spock\":\n",
    "      if cpuchoice == \"rock\":\n",
    "        return(2)\n",
    "      elif cpuchoice == \"paper\":\n",
    "        return(1)\n",
    "      elif cpuchoice == \"scissors\":\n",
    "        return(2)\n",
    "      elif cpuchoice == \"spock\":\n",
    "        return(0)\n",
    "      elif cpuchoice == \"lizard\":\n",
    "        return(1)\n",
    "    \n",
    "    elif playerchooses == \"lizard\":\n",
    "      if cpuchoice == \"rock\":\n",
    "        return(1)\n",
    "      elif cpuchoice == \"paper\":\n",
    "        return(2)\n",
    "      elif cpuchoice == \"scissors\":\n",
    "        return(1)\n",
    "      elif cpuchoice == \"spock\":\n",
    "        return(2)\n",
    "      elif cpuchoice == \"lizard\":\n",
    "        return(0)\n",
    "\n",
    "\n",
    "def drum_roll():\n",
    "  result = winround_2()\n",
    "  if result==1:\n",
    "    print(\"The computer wins\")\n",
    "    return(\"The computer wins\")\n",
    "  elif result == 2:\n",
    "    print(\"The human wins\")\n",
    "    return(\"The human wins\")\n",
    "  elif result ==0:\n",
    "    print(\"It's a tie\")\n",
    "    return(\"It's a tie\")\n",
    "\n",
    "\n",
    "for r in range(n_rounds):\n",
    "  result_round = drum_roll()\n",
    "  if str(result_round) == \"The computer wins\":\n",
    "    cpu_score += 1\n",
    "  elif str(result_round) == \"The human wins\":\n",
    "    player_score += 1\n",
    "  elif str(result_round) == \"It's a tie\":\n",
    "    cpu_score += 1\n",
    "    player_score += 1\n",
    "  print(\"Computer: \"+ str(cpu_score)+\" Human : \"+str(player_score))\n",
    "\n",
    "  if cpu_score == rounds_to_win:\n",
    "    print(\"The computer is the overall winner : \"+str(cpu_score)+\" rounds to \"+str(player_score))\n",
    "    break\n",
    "  elif player_score == rounds_to_win:\n",
    "    print(\"The human is the overall winner : \"+str(player_score)+\" rounds to \"+str(cpu_score))\n",
    "    break\n",
    "  elif player_score == rounds_to_win and cpu_score==rounds_to_win:\n",
    "    print(\"The game ends on a tie : \"+str(player_score)+\" to \"+str(cpu_score))\n",
    "    break\n",
    "    \n"
   ]
  }
 ],
 "metadata": {
  "kernelspec": {
   "display_name": "Python 3",
   "language": "python",
   "name": "python3"
  },
  "language_info": {
   "codemirror_mode": {
    "name": "ipython",
    "version": 3
   },
   "file_extension": ".py",
   "mimetype": "text/x-python",
   "name": "python",
   "nbconvert_exporter": "python",
   "pygments_lexer": "ipython3",
   "version": "3.7.4"
  }
 },
 "nbformat": 4,
 "nbformat_minor": 2
}
